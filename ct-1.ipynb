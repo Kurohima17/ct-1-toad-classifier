{
 "cells": [
  {
   "cell_type": "markdown",
   "metadata": {},
   "source": [
    "# CT-1 Training Notebook"
   ]
  },
  {
   "cell_type": "markdown",
   "metadata": {},
   "source": [
    "## 1. Introduction"
   ]
  },
  {
   "cell_type": "markdown",
   "metadata": {},
   "source": [
    "## 2. Training Data Pre-processing"
   ]
  },
  {
   "cell_type": "code",
   "execution_count": 1,
   "metadata": {},
   "outputs": [],
   "source": [
    "import tensorflow as tf\n",
    "# from tensorflow.keras.preprocessing.image import ImageDataGenerator\n",
    "import os\n",
    "\n",
    "def image_preprocessing(image,size,debug=False):\n",
    "    image = tf.io.read_file(image) # read image file\n",
    "    image = tf.image.decode_jpeg(image, channels=3) # decode image\n",
    "    image = tf.image.resize(image, (size, size)) # resize image to 224x224\n",
    "    image = image / 255.0 # normalize image\n",
    "    image = tf.image.rgb_to_grayscale(image) # convert to grayscale\n",
    "    image = tf.cast(image * 255.0, tf.uint8) # convert to uint8\n",
    "    # image = tf.cast(image, tf.float32)\n",
    "\n",
    "    # debugging mode prints the image to a file in test folder\n",
    "    if debug:\n",
    "        image = tf.io.encode_jpeg(image) # encode image\n",
    "        # Write the encoded JPEG data to a file\n",
    "        with open(\"test/test_result.jpg\", \"wb\") as f:\n",
    "            f.write(image.numpy())\n",
    "        return\n",
    "    return image\n",
    "\n",
    "# test the image preprocessing function\n",
    "image = image_preprocessing('data/1.jpg', 224, debug=True)\n"
   ]
  },
  {
   "cell_type": "code",
   "execution_count": 1,
   "metadata": {},
   "outputs": [
    {
     "name": "stdout",
     "output_type": "stream",
     "text": [
      "test\n"
     ]
    }
   ],
   "source": [
    "from tensorflow.keras.applications import Xception\n",
    "from tensorflow.keras.layers import Dense, GlobalAveragePooling2D\n",
    "\n",
    "# Load pre-trained Xception model (without top layers)\n",
    "base_model = Xception(weights='imagenet', include_top=False, input_shape=(224, 224, 3))\n",
    "\n",
    "# Add new classification layers\n",
    "x = GlobalAveragePooling2D()(base_model.output)\n",
    "x = Dense(1024, activation='relu')(x)  # Add additional dense layers if needed\n",
    "predictions = Dense(num_classes, activation='softmax')(x)  # 'num_classes' is the number of classes in your dataset\n",
    "\n",
    "# Create the model\n",
    "model = tf.keras.Model(inputs=base_model.input, outputs=predictions)\n",
    "\n",
    "# Freeze base model layers (optional)\n",
    "for layer in base_model.layers:\n",
    "    layer.trainable = False\n",
    "\n",
    "# Compile the model\n",
    "model.compile(optimizer='adam',\n",
    "              loss='categorical_crossentropy',\n",
    "              metrics=['accuracy'])\n",
    "\n",
    "# Fine-tune the model\n",
    "model.fit(train_dataset,\n",
    "          epochs=10,\n",
    "          validation_data=val_dataset)\n"
   ]
  },
  {
   "cell_type": "markdown",
   "metadata": {},
   "source": [
    "## References\n",
    "* https://www.analyticsvidhya.com/blog/2020/08/image-augmentation-on-the-fly-using-keras-imagedatagenerator/\n",
    "* https://mobidev.biz/blog/few-shot-learning-explained-examples-applications-research\n",
    "* https://keras.io/guides/transfer_learning/"
   ]
  }
 ],
 "metadata": {
  "kernelspec": {
   "display_name": ".venv",
   "language": "python",
   "name": "python3"
  },
  "language_info": {
   "codemirror_mode": {
    "name": "ipython",
    "version": 3
   },
   "file_extension": ".py",
   "mimetype": "text/x-python",
   "name": "python",
   "nbconvert_exporter": "python",
   "pygments_lexer": "ipython3",
   "version": "3.12.2"
  }
 },
 "nbformat": 4,
 "nbformat_minor": 2
}
